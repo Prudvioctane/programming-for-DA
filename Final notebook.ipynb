{
 "cells": [
  {
   "cell_type": "markdown",
   "id": "123a5d0f",
   "metadata": {},
   "source": [
    "# Part 1 Programming"
   ]
  },
  {
   "cell_type": "code",
   "execution_count": 121,
   "id": "1977afa2",
   "metadata": {},
   "outputs": [],
   "source": [
    "import pandas as pd\n",
    "import matplotlib.pyplot as plt\n",
    "import seaborn as sns\n",
    "from sklearn.preprocessing import StandardScaler\n",
    "from sklearn.cluster import KMeans\n",
    "import json\n",
    "from joblib import Parallel, delayed\n",
    "import numpy as np\n",
    "from sklearn.metrics import silhouette_score\n",
    "import unittest"
   ]
  },
  {
   "cell_type": "code",
   "execution_count": 122,
   "id": "9e94ce12",
   "metadata": {},
   "outputs": [
    {
     "data": {
      "text/html": [
       "<div>\n",
       "<style scoped>\n",
       "    .dataframe tbody tr th:only-of-type {\n",
       "        vertical-align: middle;\n",
       "    }\n",
       "\n",
       "    .dataframe tbody tr th {\n",
       "        vertical-align: top;\n",
       "    }\n",
       "\n",
       "    .dataframe thead th {\n",
       "        text-align: right;\n",
       "    }\n",
       "</style>\n",
       "<table border=\"1\" class=\"dataframe\">\n",
       "  <thead>\n",
       "    <tr style=\"text-align: right;\">\n",
       "      <th></th>\n",
       "      <th>STATION ID</th>\n",
       "      <th>TIME</th>\n",
       "      <th>LAST UPDATED</th>\n",
       "      <th>NAME</th>\n",
       "      <th>BIKE_STANDS</th>\n",
       "      <th>AVAILABLE_BIKE_STANDS</th>\n",
       "      <th>AVAILABLE_BIKES</th>\n",
       "      <th>STATUS</th>\n",
       "      <th>ADDRESS</th>\n",
       "      <th>LATITUDE</th>\n",
       "      <th>LONGITUDE</th>\n",
       "    </tr>\n",
       "  </thead>\n",
       "  <tbody>\n",
       "    <tr>\n",
       "      <th>0</th>\n",
       "      <td>1</td>\n",
       "      <td>2024-01-01 00:00:02</td>\n",
       "      <td>2023-12-31 23:59:40</td>\n",
       "      <td>CLARENDON ROW</td>\n",
       "      <td>31</td>\n",
       "      <td>8</td>\n",
       "      <td>23</td>\n",
       "      <td>OPEN</td>\n",
       "      <td>Clarendon Row</td>\n",
       "      <td>53.3409</td>\n",
       "      <td>-6.26250</td>\n",
       "    </tr>\n",
       "    <tr>\n",
       "      <th>1</th>\n",
       "      <td>2</td>\n",
       "      <td>2024-01-01 00:00:02</td>\n",
       "      <td>2023-12-31 23:57:55</td>\n",
       "      <td>BLESSINGTON STREET</td>\n",
       "      <td>20</td>\n",
       "      <td>18</td>\n",
       "      <td>2</td>\n",
       "      <td>OPEN</td>\n",
       "      <td>Blessington Street</td>\n",
       "      <td>53.3568</td>\n",
       "      <td>-6.26814</td>\n",
       "    </tr>\n",
       "    <tr>\n",
       "      <th>2</th>\n",
       "      <td>3</td>\n",
       "      <td>2024-01-01 00:00:02</td>\n",
       "      <td>2023-12-31 23:59:33</td>\n",
       "      <td>BOLTON STREET</td>\n",
       "      <td>20</td>\n",
       "      <td>18</td>\n",
       "      <td>2</td>\n",
       "      <td>OPEN</td>\n",
       "      <td>Bolton Street</td>\n",
       "      <td>53.3512</td>\n",
       "      <td>-6.26986</td>\n",
       "    </tr>\n",
       "    <tr>\n",
       "      <th>3</th>\n",
       "      <td>4</td>\n",
       "      <td>2024-01-01 00:00:02</td>\n",
       "      <td>2023-12-31 23:49:57</td>\n",
       "      <td>GREEK STREET</td>\n",
       "      <td>20</td>\n",
       "      <td>10</td>\n",
       "      <td>10</td>\n",
       "      <td>OPEN</td>\n",
       "      <td>Greek Street</td>\n",
       "      <td>53.3469</td>\n",
       "      <td>-6.27298</td>\n",
       "    </tr>\n",
       "    <tr>\n",
       "      <th>4</th>\n",
       "      <td>5</td>\n",
       "      <td>2024-01-01 00:00:02</td>\n",
       "      <td>2023-12-31 23:51:04</td>\n",
       "      <td>CHARLEMONT PLACE</td>\n",
       "      <td>40</td>\n",
       "      <td>8</td>\n",
       "      <td>32</td>\n",
       "      <td>OPEN</td>\n",
       "      <td>Charlemont Street</td>\n",
       "      <td>53.3307</td>\n",
       "      <td>-6.26018</td>\n",
       "    </tr>\n",
       "  </tbody>\n",
       "</table>\n",
       "</div>"
      ],
      "text/plain": [
       "   STATION ID                 TIME         LAST UPDATED                NAME  \\\n",
       "0           1  2024-01-01 00:00:02  2023-12-31 23:59:40       CLARENDON ROW   \n",
       "1           2  2024-01-01 00:00:02  2023-12-31 23:57:55  BLESSINGTON STREET   \n",
       "2           3  2024-01-01 00:00:02  2023-12-31 23:59:33       BOLTON STREET   \n",
       "3           4  2024-01-01 00:00:02  2023-12-31 23:49:57        GREEK STREET   \n",
       "4           5  2024-01-01 00:00:02  2023-12-31 23:51:04    CHARLEMONT PLACE   \n",
       "\n",
       "   BIKE_STANDS  AVAILABLE_BIKE_STANDS  AVAILABLE_BIKES STATUS  \\\n",
       "0           31                      8               23   OPEN   \n",
       "1           20                     18                2   OPEN   \n",
       "2           20                     18                2   OPEN   \n",
       "3           20                     10               10   OPEN   \n",
       "4           40                      8               32   OPEN   \n",
       "\n",
       "              ADDRESS  LATITUDE  LONGITUDE  \n",
       "0       Clarendon Row   53.3409   -6.26250  \n",
       "1  Blessington Street   53.3568   -6.26814  \n",
       "2       Bolton Street   53.3512   -6.26986  \n",
       "3        Greek Street   53.3469   -6.27298  \n",
       "4   Charlemont Street   53.3307   -6.26018  "
      ]
     },
     "execution_count": 122,
     "metadata": {},
     "output_type": "execute_result"
    }
   ],
   "source": [
    "# Load the data\n",
    "data = pd.read_csv(\"dublinbike-historical-data-2024-01.csv\")\n",
    "# Print the 5 rows\n",
    "data.head()"
   ]
  },
  {
   "cell_type": "markdown",
   "id": "04ac9b6a",
   "metadata": {},
   "source": [
    "# Exploratory Data Analysis (EDA)"
   ]
  },
  {
   "cell_type": "code",
   "execution_count": 123,
   "id": "d03480e2",
   "metadata": {},
   "outputs": [
    {
     "name": "stdout",
     "output_type": "stream",
     "text": [
      "<class 'pandas.core.frame.DataFrame'>\n",
      "RangeIndex: 169062 entries, 0 to 169061\n",
      "Data columns (total 11 columns):\n",
      " #   Column                 Non-Null Count   Dtype  \n",
      "---  ------                 --------------   -----  \n",
      " 0   STATION ID             169062 non-null  int64  \n",
      " 1   TIME                   169062 non-null  object \n",
      " 2   LAST UPDATED           169062 non-null  object \n",
      " 3   NAME                   169062 non-null  object \n",
      " 4   BIKE_STANDS            169062 non-null  int64  \n",
      " 5   AVAILABLE_BIKE_STANDS  169062 non-null  int64  \n",
      " 6   AVAILABLE_BIKES        169062 non-null  int64  \n",
      " 7   STATUS                 169062 non-null  object \n",
      " 8   ADDRESS                169062 non-null  object \n",
      " 9   LATITUDE               169062 non-null  float64\n",
      " 10  LONGITUDE              169062 non-null  float64\n",
      "dtypes: float64(2), int64(4), object(5)\n",
      "memory usage: 14.2+ MB\n"
     ]
    }
   ],
   "source": [
    "# dataset info\n",
    "data.info()"
   ]
  },
  {
   "cell_type": "code",
   "execution_count": 124,
   "id": "ba9dacef",
   "metadata": {},
   "outputs": [
    {
     "name": "stdout",
     "output_type": "stream",
     "text": [
      "Missing values:\n",
      " STATION ID               0\n",
      "TIME                     0\n",
      "LAST UPDATED             0\n",
      "NAME                     0\n",
      "BIKE_STANDS              0\n",
      "AVAILABLE_BIKE_STANDS    0\n",
      "AVAILABLE_BIKES          0\n",
      "STATUS                   0\n",
      "ADDRESS                  0\n",
      "LATITUDE                 0\n",
      "LONGITUDE                0\n",
      "dtype: int64\n"
     ]
    },
    {
     "data": {
      "image/png": "[encoded data removed]",
      "text/plain": [
       "<Figure size 864x432 with 1 Axes>"
      ]
     },
     "metadata": {
      "needs_background": "light"
     },
     "output_type": "display_data"
    }
   ],
   "source": [
    "# Check for missing values\n",
    "missing_values = data.isnull().sum()\n",
    "print(\"Missing values:\\n\", missing_values)\n",
    "# Visualize missing values\n",
    "plt.figure(figsize=(12, 6))\n",
    "sns.heatmap(data.isnull(), cbar=False, cmap='viridis')\n",
    "plt.title('Missing Values graph')\n",
    "plt.show()"
   ]
  },
  {
   "cell_type": "code",
   "execution_count": 125,
   "id": "c1e5282d",
   "metadata": {},
   "outputs": [
    {
     "name": "stdout",
     "output_type": "stream",
     "text": [
      "statistical analysis:\n",
      "           STATION ID    BIKE_STANDS  AVAILABLE_BIKE_STANDS  AVAILABLE_BIKES  \\\n",
      "count  169062.000000  169062.000000          169062.000000    169062.000000   \n",
      "mean       58.824561      31.982456              19.990678        11.834919   \n",
      "std        34.115551       7.457483              11.175331         9.809934   \n",
      "min         1.000000      16.000000               0.000000         0.000000   \n",
      "25%        29.000000      29.000000              11.000000         3.000000   \n",
      "50%        58.500000      30.000000              20.000000        10.000000   \n",
      "75%        89.000000      40.000000              29.000000        18.000000   \n",
      "max       117.000000      40.000000              40.000000        40.000000   \n",
      "\n",
      "            LATITUDE      LONGITUDE  \n",
      "count  169062.000000  169062.000000  \n",
      "mean       53.345561      -6.264373  \n",
      "std         0.007573       0.017901  \n",
      "min        53.330100      -6.310020  \n",
      "25%        53.339800      -6.275230  \n",
      "50%        53.344900      -6.263105  \n",
      "75%        53.350900      -6.251560  \n",
      "max        53.360000      -6.230850  \n"
     ]
    }
   ],
   "source": [
    "# statistical analysis\n",
    "stats = data.describe()\n",
    "print(\"statistical analysis:\\n\",stats)"
   ]
  },
  {
   "cell_type": "code",
   "execution_count": 126,
   "id": "713e1a0c",
   "metadata": {},
   "outputs": [
    {
     "data": {
      "image/png": "[encoded data removed]",
      "text/plain": [
       "<Figure size 720x432 with 1 Axes>"
      ]
     },
     "metadata": {
      "needs_background": "light"
     },
     "output_type": "display_data"
    }
   ],
   "source": [
    "plt.figure(figsize=(10, 6))\n",
    "sns.histplot(data['AVAILABLE_BIKES'], kde=True)\n",
    "plt.title('Distribution of Available Bikes')\n",
    "plt.xlabel('Number of Available Bikes')\n",
    "plt.ylabel('Frequency')\n",
    "plt.show()"
   ]
  },
  {
   "cell_type": "code",
   "execution_count": 127,
   "id": "d2597f08",
   "metadata": {},
   "outputs": [
    {
     "data": {
      "image/png": "[encoded data removed]",
      "text/plain": [
       "<Figure size 864x432 with 1 Axes>"
      ]
     },
     "metadata": {
      "needs_background": "light"
     },
     "output_type": "display_data"
    }
   ],
   "source": [
    "# check outliers\n",
    "plt.figure(figsize=(12, 6))\n",
    "sns.boxplot(data=data[['BIKE_STANDS', 'AVAILABLE_BIKE_STANDS', 'AVAILABLE_BIKES']])\n",
    "plt.title('Box Plot of Numerical Columns')\n",
    "plt.show()\n"
   ]
  },
  {
   "cell_type": "code",
   "execution_count": 128,
   "id": "084dd391",
   "metadata": {},
   "outputs": [
    {
     "data": {
      "image/png": "[encoded data removed]",
      "text/plain": [
       "<Figure size 864x432 with 1 Axes>"
      ]
     },
     "metadata": {
      "needs_background": "light"
     },
     "output_type": "display_data"
    }
   ],
   "source": [
    "# Scatter plot\n",
    "plt.figure(figsize=(12, 6))\n",
    "sns.scatterplot(x='BIKE_STANDS', y='AVAILABLE_BIKES', data=data, palette='viridis')\n",
    "plt.title('Bike Stands vs. Available Bikes')\n",
    "plt.xlabel('Number of Bike Stands')\n",
    "plt.ylabel('Number of Available Bikes')\n",
    "plt.show()"
   ]
  },
  {
   "cell_type": "code",
   "execution_count": 129,
   "id": "6634271e",
   "metadata": {},
   "outputs": [],
   "source": [
    "# Fill missing values\n",
    "data.fillna(method='ffill', inplace=True)\n",
    "# Remove duplicates\n",
    "data.drop_duplicates(inplace=True)"
   ]
  },
  {
   "cell_type": "code",
   "execution_count": 130,
   "id": "b48f59ed",
   "metadata": {},
   "outputs": [
    {
     "data": {
      "image/png": "[encoded data removed]",
      "text/plain": [
       "<Figure size 864x432 with 1 Axes>"
      ]
     },
     "metadata": {
      "needs_background": "light"
     },
     "output_type": "display_data"
    }
   ],
   "source": [
    "# Feature engineering\n",
    "data['UTILIZATION_RATE'] = data['AVAILABLE_BIKES'] / data['BIKE_STANDS']\n",
    "# Plot distribution\n",
    "plt.figure(figsize=(12, 6))\n",
    "sns.histplot(data['UTILIZATION_RATE'], kde=True, palette='viridis')\n",
    "plt.title('Distribution of Utilization Rate')\n",
    "plt.xlabel('Utilization Rate')\n",
    "plt.ylabel('Frequency')\n",
    "plt.show()\n"
   ]
  },
  {
   "cell_type": "code",
   "execution_count": 131,
   "id": "fd054be2",
   "metadata": {},
   "outputs": [
    {
     "data": {
      "image/png": "[encoded data removed]",
      "text/plain": [
       "<Figure size 720x432 with 1 Axes>"
      ]
     },
     "metadata": {
      "needs_background": "light"
     },
     "output_type": "display_data"
    }
   ],
   "source": [
    "# input for model\n",
    "X = data[['AVAILABLE_BIKES', 'AVAILABLE_BIKE_STANDS']]\n",
    "# Standardize features\n",
    "scaler = StandardScaler()\n",
    "X_scaled = scaler.fit_transform(X)\n",
    "# Apply KMeans\n",
    "kmeans = KMeans(n_clusters=3, random_state=42)\n",
    "kmeans.fit(X_scaled)\n",
    "# Add column\n",
    "data['Cluster'] = kmeans.labels_\n",
    "# clusters visualization\n",
    "plt.figure(figsize=(10, 6))\n",
    "sns.scatterplot(x='AVAILABLE_BIKES', y='AVAILABLE_BIKE_STANDS', hue='Cluster', data=data, palette='viridis')\n",
    "plt.title('KMeans Clustering')\n",
    "plt.xlabel('Number of Available Bikes')\n",
    "plt.ylabel('Number of Available Bike Stands')\n",
    "plt.show()\n"
   ]
  },
  {
   "cell_type": "code",
   "execution_count": 132,
   "id": "987ff16d",
   "metadata": {},
   "outputs": [],
   "source": [
    "# Preprocessing Function\n",
    "def preprocess_data(data):\n",
    "    data.fillna(method='ffill', inplace=True)\n",
    "    data.drop_duplicates(inplace=True)\n",
    "    data['TIME'] = pd.to_datetime(data['TIME'])\n",
    "    data['LAST UPDATED'] = pd.to_datetime(data['LAST UPDATED'])\n",
    "    return data\n",
    "\n",
    "# function call\n",
    "pre_data = preprocess_data(data)\n"
   ]
  },
  {
   "cell_type": "markdown",
   "id": "d730d07e",
   "metadata": {},
   "source": [
    "# Part 2 Data From Diverse Sources"
   ]
  },
  {
   "cell_type": "code",
   "execution_count": 133,
   "id": "e7e127c3",
   "metadata": {},
   "outputs": [],
   "source": [
    "# Load Citi Bike data\n",
    "citi_bike_data = pd.read_csv(\"JC-201909-citibike-tripdata.csv\")\n",
    "# Convert CSV to JSON\n",
    "citi_bike_data.to_json(\"citibike-tripdata.json\", orient='records', lines=True)"
   ]
  },
  {
   "cell_type": "code",
   "execution_count": 134,
   "id": "ff23d98f",
   "metadata": {
    "scrolled": true
   },
   "outputs": [
    {
     "name": "stdout",
     "output_type": "stream",
     "text": [
      "<class 'pandas.core.frame.DataFrame'>\n",
      "RangeIndex: 49244 entries, 0 to 49243\n",
      "Data columns (total 15 columns):\n",
      " #   Column                   Non-Null Count  Dtype  \n",
      "---  ------                   --------------  -----  \n",
      " 0   tripduration             49244 non-null  int64  \n",
      " 1   starttime                49244 non-null  object \n",
      " 2   stoptime                 49244 non-null  object \n",
      " 3   start station id         49244 non-null  int64  \n",
      " 4   start station name       49244 non-null  object \n",
      " 5   start station latitude   49244 non-null  float64\n",
      " 6   start station longitude  49244 non-null  float64\n",
      " 7   end station id           49244 non-null  int64  \n",
      " 8   end station name         49244 non-null  object \n",
      " 9   end station latitude     49244 non-null  float64\n",
      " 10  end station longitude    49244 non-null  float64\n",
      " 11  bikeid                   49244 non-null  int64  \n",
      " 12  usertype                 49244 non-null  object \n",
      " 13  birth year               49244 non-null  int64  \n",
      " 14  gender                   49244 non-null  int64  \n",
      "dtypes: float64(4), int64(6), object(5)\n",
      "memory usage: 5.6+ MB\n"
     ]
    }
   ],
   "source": [
    "# Load Citi Bike data\n",
    "citi_bike_json_data = pd.read_json(\"citibike-tripdata.json\", lines=True)\n",
    "citi_bike_json_data.head()\n",
    "citi_bike_json_data.info()"
   ]
  },
  {
   "cell_type": "code",
   "execution_count": 135,
   "id": "8b9e4833",
   "metadata": {},
   "outputs": [],
   "source": [
    "# Check missing values\n",
    "citi_bike_json_data.isnull().sum()\n",
    "# Fill missing values\n",
    "citi_bike_json_data.fillna(method='ffill', inplace=True)"
   ]
  },
  {
   "cell_type": "code",
   "execution_count": 136,
   "id": "111760ab",
   "metadata": {},
   "outputs": [],
   "source": [
    "# Convert datatype\n",
    "citi_bike_json_data['starttime'] = pd.to_datetime(citi_bike_json_data['starttime'])\n",
    "citi_bike_json_data['stoptime'] = pd.to_datetime(citi_bike_json_data['stoptime'])"
   ]
  },
  {
   "cell_type": "code",
   "execution_count": 137,
   "id": "3ad901dc",
   "metadata": {},
   "outputs": [],
   "source": [
    "# Feature engineering\n",
    "citi_bike_json_data['tripduration_minutes'] = citi_bike_json_data['tripduration'] / 60"
   ]
  },
  {
   "cell_type": "code",
   "execution_count": 138,
   "id": "3ce8932a",
   "metadata": {},
   "outputs": [],
   "source": [
    "# aggregate data by start station ID\n",
    "grouped_citi_bike_json_data = citi_bike_json_data.groupby('start station id').agg({\n",
    "    'tripduration_minutes': 'mean',\n",
    "    'bikeid': 'count'\n",
    "}).reset_index()"
   ]
  },
  {
   "cell_type": "code",
   "execution_count": 139,
   "id": "1448c6c4",
   "metadata": {
    "scrolled": true
   },
   "outputs": [
    {
     "name": "stdout",
     "output_type": "stream",
     "text": [
      "<class 'pandas.core.frame.DataFrame'>\n",
      "RangeIndex: 169062 entries, 0 to 169061\n",
      "Data columns (total 11 columns):\n",
      " #   Column                 Non-Null Count   Dtype  \n",
      "---  ------                 --------------   -----  \n",
      " 0   STATION ID             169062 non-null  int64  \n",
      " 1   TIME                   169062 non-null  object \n",
      " 2   LAST UPDATED           169062 non-null  object \n",
      " 3   NAME                   169062 non-null  object \n",
      " 4   BIKE_STANDS            169062 non-null  int64  \n",
      " 5   AVAILABLE_BIKE_STANDS  169062 non-null  int64  \n",
      " 6   AVAILABLE_BIKES        169062 non-null  int64  \n",
      " 7   STATUS                 169062 non-null  object \n",
      " 8   ADDRESS                169062 non-null  object \n",
      " 9   LATITUDE               169062 non-null  float64\n",
      " 10  LONGITUDE              169062 non-null  float64\n",
      "dtypes: float64(2), int64(4), object(5)\n",
      "memory usage: 14.2+ MB\n"
     ]
    }
   ],
   "source": [
    "# Load the Dublinbikes data\n",
    "dublinbikes_data = pd.read_csv(\"dublinbike-historical-data-2024-01.csv\")\n",
    "dublinbikes_data.head()\n",
    "dublinbikes_data.info()"
   ]
  },
  {
   "cell_type": "code",
   "execution_count": 140,
   "id": "9e0e0efc",
   "metadata": {},
   "outputs": [],
   "source": [
    "# Check missing values\n",
    "dublinbikes_data.isnull().sum()\n",
    "# Fill missing values\n",
    "dublinbikes_data.fillna(method='ffill', inplace=True)"
   ]
  },
  {
   "cell_type": "code",
   "execution_count": 141,
   "id": "afe00064",
   "metadata": {},
   "outputs": [],
   "source": [
    "# Convert Datatype\n",
    "dublinbikes_data['TIME'] = pd.to_datetime(dublinbikes_data['TIME'])\n",
    "dublinbikes_data['LAST UPDATED'] = pd.to_datetime(dublinbikes_data['LAST UPDATED'])"
   ]
  },
  {
   "cell_type": "code",
   "execution_count": 142,
   "id": "ba939814",
   "metadata": {},
   "outputs": [],
   "source": [
    "# Feature engineering\n",
    "dublinbikes_data['UTILIZATION_RATE'] = dublinbikes_data['AVAILABLE_BIKES'] / dublinbikes_data['BIKE_STANDS']"
   ]
  },
  {
   "cell_type": "code",
   "execution_count": 143,
   "id": "8678a5e5",
   "metadata": {},
   "outputs": [],
   "source": [
    "# aggregate data by station ID\n",
    "grouped_dublinbikes_data = dublinbikes_data.groupby('STATION ID').agg({\n",
    "    'AVAILABLE_BIKES': 'mean',\n",
    "    'AVAILABLE_BIKE_STANDS': 'mean'\n",
    "}).reset_index()"
   ]
  },
  {
   "cell_type": "code",
   "execution_count": 144,
   "id": "9a769bf0",
   "metadata": {},
   "outputs": [],
   "source": [
    "# concatenation\n",
    "concatenated_data = pd.concat([dublinbikes_data, citi_bike_data], ignore_index=True)\n",
    "# merging datasets\n",
    "merged_data = pd.merge(dublinbikes_data, citi_bike_json_data, left_on='STATION ID', right_on='start station id', how='inner')\n",
    "# Resampling\n",
    "resampled_data = dublinbikes_data.resample('D', on='TIME').mean().reset_index()"
   ]
  },
  {
   "cell_type": "markdown",
   "id": "8d823889",
   "metadata": {},
   "source": [
    "# Part 3 Data Manipulation"
   ]
  },
  {
   "cell_type": "code",
   "execution_count": 145,
   "id": "9a512807",
   "metadata": {},
   "outputs": [],
   "source": [
    "# Load the Dublinbikes data\n",
    "dublinbikes_data = pd.read_csv(\"dublinbike-historical-data-2024-01.csv\")\n",
    "# Handle missing values\n",
    "dublinbikes_data.fillna(method='ffill', inplace=True)\n",
    "# Remove duplicates\n",
    "dublinbikes_data.drop_duplicates(inplace=True)\n",
    "# Convert datatypes\n",
    "dublinbikes_data['TIME'] = pd.to_datetime(dublinbikes_data['TIME'])\n",
    "dublinbikes_data['LAST UPDATED'] = pd.to_datetime(dublinbikes_data['LAST UPDATED'])"
   ]
  },
  {
   "cell_type": "code",
   "execution_count": 146,
   "id": "d5a93ec5",
   "metadata": {},
   "outputs": [
    {
     "name": "stdout",
     "output_type": "stream",
     "text": [
      "   STATION ID  AVAILABLE_BIKES  AVAILABLE_BIKE_STANDS  UTILIZATION_RATE\n",
      "0           1         9.997977              20.937964          0.322515\n",
      "1           2         6.619690              13.374916          0.330984\n",
      "2           3         9.797707              10.153742          0.489885\n",
      "3           4         9.326365              10.660823          0.466318\n",
      "4           5        24.697235              15.205664          0.617431\n"
     ]
    }
   ],
   "source": [
    "# Feature engineering\n",
    "dublinbikes_data['UTILIZATION_RATE'] = dublinbikes_data['AVAILABLE_BIKES'] / dublinbikes_data['BIKE_STANDS']\n",
    "# aggregate data by station ID\n",
    "grouped_dublinbikes_data = dublinbikes_data.groupby('STATION ID').agg({\n",
    "    'AVAILABLE_BIKES': 'mean',\n",
    "    'AVAILABLE_BIKE_STANDS': 'mean',\n",
    "    'UTILIZATION_RATE': 'mean'\n",
    "}).reset_index()\n",
    "print(grouped_dublinbikes_data.head())"
   ]
  },
  {
   "cell_type": "code",
   "execution_count": 147,
   "id": "70d2b964",
   "metadata": {},
   "outputs": [],
   "source": [
    "# Load the JSON data\n",
    "citi_bike_json_data = pd.read_json(\"citibike-tripdata.json\", lines=True)\n",
    "# Handle missing values\n",
    "citi_bike_json_data.fillna(method='ffill', inplace=True)\n",
    "# Remove duplicates\n",
    "citi_bike_json_data.drop_duplicates(inplace=True)\n",
    "# Convert data types\n",
    "citi_bike_json_data['starttime'] = pd.to_datetime(citi_bike_json_data['starttime'])\n",
    "citi_bike_json_data['stoptime'] = pd.to_datetime(citi_bike_json_data['stoptime'])"
   ]
  },
  {
   "cell_type": "code",
   "execution_count": 148,
   "id": "f4f9c98e",
   "metadata": {},
   "outputs": [
    {
     "name": "stdout",
     "output_type": "stream",
     "text": [
      "   start station id  tripduration_minutes  bikeid\n",
      "0              3184             11.738268    1020\n",
      "1              3185             12.508931    1226\n",
      "2              3186              8.673224    5282\n",
      "3              3187             23.630314    1297\n",
      "4              3191             21.946601     152\n"
     ]
    }
   ],
   "source": [
    "# Feature engineering\n",
    "citi_bike_json_data['tripduration_minutes'] = citi_bike_json_data['tripduration'] / 60\n",
    "# aggregate data by start station ID\n",
    "grouped_citi_bike_json_data = citi_bike_json_data.groupby('start station id').agg({\n",
    "    'tripduration_minutes': 'mean',\n",
    "    'bikeid': 'count'\n",
    "}).reset_index()\n",
    "print(grouped_citi_bike_json_data.head())"
   ]
  },
  {
   "cell_type": "markdown",
   "id": "e9e3081f",
   "metadata": {},
   "source": [
    "## Merging on Common Key"
   ]
  },
  {
   "cell_type": "code",
   "execution_count": 149,
   "id": "56c431e6",
   "metadata": {},
   "outputs": [],
   "source": [
    "# Merge datasets\n",
    "merged_data = pd.merge(dublinbikes_data, citi_bike_json_data, left_on='STATION ID', right_on='start station id', how='inner', suffixes=('_dublin', '_citibike'))\n"
   ]
  },
  {
   "cell_type": "markdown",
   "id": "b102f19f",
   "metadata": {},
   "source": [
    "# Part 4 Data Structures"
   ]
  },
  {
   "cell_type": "code",
   "execution_count": 150,
   "id": "71b76361",
   "metadata": {},
   "outputs": [
    {
     "data": {
      "text/html": [
       "<div>\n",
       "<style scoped>\n",
       "    .dataframe tbody tr th:only-of-type {\n",
       "        vertical-align: middle;\n",
       "    }\n",
       "\n",
       "    .dataframe tbody tr th {\n",
       "        vertical-align: top;\n",
       "    }\n",
       "\n",
       "    .dataframe thead th {\n",
       "        text-align: right;\n",
       "    }\n",
       "</style>\n",
       "<table border=\"1\" class=\"dataframe\">\n",
       "  <thead>\n",
       "    <tr style=\"text-align: right;\">\n",
       "      <th></th>\n",
       "      <th>STATION ID</th>\n",
       "      <th>AVAILABLE_BIKES</th>\n",
       "      <th>AVAILABLE_BIKE_STANDS</th>\n",
       "    </tr>\n",
       "  </thead>\n",
       "  <tbody>\n",
       "    <tr>\n",
       "      <th>0</th>\n",
       "      <td>1</td>\n",
       "      <td>9.997977</td>\n",
       "      <td>20.937964</td>\n",
       "    </tr>\n",
       "    <tr>\n",
       "      <th>1</th>\n",
       "      <td>2</td>\n",
       "      <td>6.619690</td>\n",
       "      <td>13.374916</td>\n",
       "    </tr>\n",
       "    <tr>\n",
       "      <th>2</th>\n",
       "      <td>3</td>\n",
       "      <td>9.797707</td>\n",
       "      <td>10.153742</td>\n",
       "    </tr>\n",
       "    <tr>\n",
       "      <th>3</th>\n",
       "      <td>4</td>\n",
       "      <td>9.326365</td>\n",
       "      <td>10.660823</td>\n",
       "    </tr>\n",
       "    <tr>\n",
       "      <th>4</th>\n",
       "      <td>5</td>\n",
       "      <td>24.697235</td>\n",
       "      <td>15.205664</td>\n",
       "    </tr>\n",
       "    <tr>\n",
       "      <th>...</th>\n",
       "      <td>...</td>\n",
       "      <td>...</td>\n",
       "      <td>...</td>\n",
       "    </tr>\n",
       "    <tr>\n",
       "      <th>109</th>\n",
       "      <td>113</td>\n",
       "      <td>4.919757</td>\n",
       "      <td>33.062711</td>\n",
       "    </tr>\n",
       "    <tr>\n",
       "      <th>110</th>\n",
       "      <td>114</td>\n",
       "      <td>10.805125</td>\n",
       "      <td>29.100472</td>\n",
       "    </tr>\n",
       "    <tr>\n",
       "      <th>111</th>\n",
       "      <td>115</td>\n",
       "      <td>20.565745</td>\n",
       "      <td>9.392448</td>\n",
       "    </tr>\n",
       "    <tr>\n",
       "      <th>112</th>\n",
       "      <td>116</td>\n",
       "      <td>2.664194</td>\n",
       "      <td>27.331760</td>\n",
       "    </tr>\n",
       "    <tr>\n",
       "      <th>113</th>\n",
       "      <td>117</td>\n",
       "      <td>8.452461</td>\n",
       "      <td>31.509777</td>\n",
       "    </tr>\n",
       "  </tbody>\n",
       "</table>\n",
       "<p>114 rows × 3 columns</p>\n",
       "</div>"
      ],
      "text/plain": [
       "     STATION ID  AVAILABLE_BIKES  AVAILABLE_BIKE_STANDS\n",
       "0             1         9.997977              20.937964\n",
       "1             2         6.619690              13.374916\n",
       "2             3         9.797707              10.153742\n",
       "3             4         9.326365              10.660823\n",
       "4             5        24.697235              15.205664\n",
       "..          ...              ...                    ...\n",
       "109         113         4.919757              33.062711\n",
       "110         114        10.805125              29.100472\n",
       "111         115        20.565745               9.392448\n",
       "112         116         2.664194              27.331760\n",
       "113         117         8.452461              31.509777\n",
       "\n",
       "[114 rows x 3 columns]"
      ]
     },
     "execution_count": 150,
     "metadata": {},
     "output_type": "execute_result"
    }
   ],
   "source": [
    "# Load the data\n",
    "dublinbikes_data = pd.read_csv(\"dublinbike-historical-data-2024-01.csv\")\n",
    "# Handle missing values\n",
    "dublinbikes_data.fillna(method='ffill', inplace=True)\n",
    "# Convert data types\n",
    "dublinbikes_data['TIME'] = pd.to_datetime(dublinbikes_data['TIME'])\n",
    "dublinbikes_data['LAST UPDATED'] = pd.to_datetime(dublinbikes_data['LAST UPDATED'])\n",
    "# Feature engineering\n",
    "dublinbikes_data['UTILIZATION_RATE'] = dublinbikes_data['AVAILABLE_BIKES'] / dublinbikes_data['BIKE_STANDS']\n",
    "# Aggregation\n",
    "grouped_data = dublinbikes_data.groupby('STATION ID').agg({\n",
    "    'AVAILABLE_BIKES': 'mean',\n",
    "    'AVAILABLE_BIKE_STANDS': 'mean'\n",
    "}).reset_index()\n",
    "grouped_data\n"
   ]
  },
  {
   "cell_type": "code",
   "execution_count": 151,
   "id": "ed4df6d4",
   "metadata": {},
   "outputs": [
    {
     "data": {
      "text/html": [
       "<div>\n",
       "<style scoped>\n",
       "    .dataframe tbody tr th:only-of-type {\n",
       "        vertical-align: middle;\n",
       "    }\n",
       "\n",
       "    .dataframe tbody tr th {\n",
       "        vertical-align: top;\n",
       "    }\n",
       "\n",
       "    .dataframe thead th {\n",
       "        text-align: right;\n",
       "    }\n",
       "</style>\n",
       "<table border=\"1\" class=\"dataframe\">\n",
       "  <thead>\n",
       "    <tr style=\"text-align: right;\">\n",
       "      <th></th>\n",
       "      <th>start station id</th>\n",
       "      <th>tripduration_minutes</th>\n",
       "      <th>bikeid</th>\n",
       "    </tr>\n",
       "  </thead>\n",
       "  <tbody>\n",
       "    <tr>\n",
       "      <th>0</th>\n",
       "      <td>3184</td>\n",
       "      <td>11.738268</td>\n",
       "      <td>1020</td>\n",
       "    </tr>\n",
       "    <tr>\n",
       "      <th>1</th>\n",
       "      <td>3185</td>\n",
       "      <td>12.508931</td>\n",
       "      <td>1226</td>\n",
       "    </tr>\n",
       "    <tr>\n",
       "      <th>2</th>\n",
       "      <td>3186</td>\n",
       "      <td>8.673224</td>\n",
       "      <td>5282</td>\n",
       "    </tr>\n",
       "    <tr>\n",
       "      <th>3</th>\n",
       "      <td>3187</td>\n",
       "      <td>23.630314</td>\n",
       "      <td>1297</td>\n",
       "    </tr>\n",
       "    <tr>\n",
       "      <th>4</th>\n",
       "      <td>3191</td>\n",
       "      <td>21.946601</td>\n",
       "      <td>152</td>\n",
       "    </tr>\n",
       "    <tr>\n",
       "      <th>5</th>\n",
       "      <td>3192</td>\n",
       "      <td>27.737112</td>\n",
       "      <td>1116</td>\n",
       "    </tr>\n",
       "    <tr>\n",
       "      <th>6</th>\n",
       "      <td>3193</td>\n",
       "      <td>15.897818</td>\n",
       "      <td>382</td>\n",
       "    </tr>\n",
       "    <tr>\n",
       "      <th>7</th>\n",
       "      <td>3194</td>\n",
       "      <td>7.103642</td>\n",
       "      <td>929</td>\n",
       "    </tr>\n",
       "    <tr>\n",
       "      <th>8</th>\n",
       "      <td>3195</td>\n",
       "      <td>10.081857</td>\n",
       "      <td>2009</td>\n",
       "    </tr>\n",
       "    <tr>\n",
       "      <th>9</th>\n",
       "      <td>3196</td>\n",
       "      <td>16.376236</td>\n",
       "      <td>263</td>\n",
       "    </tr>\n",
       "    <tr>\n",
       "      <th>10</th>\n",
       "      <td>3198</td>\n",
       "      <td>33.576786</td>\n",
       "      <td>364</td>\n",
       "    </tr>\n",
       "    <tr>\n",
       "      <th>11</th>\n",
       "      <td>3199</td>\n",
       "      <td>16.978191</td>\n",
       "      <td>1504</td>\n",
       "    </tr>\n",
       "    <tr>\n",
       "      <th>12</th>\n",
       "      <td>3201</td>\n",
       "      <td>10.915098</td>\n",
       "      <td>85</td>\n",
       "    </tr>\n",
       "    <tr>\n",
       "      <th>13</th>\n",
       "      <td>3202</td>\n",
       "      <td>23.186844</td>\n",
       "      <td>2241</td>\n",
       "    </tr>\n",
       "    <tr>\n",
       "      <th>14</th>\n",
       "      <td>3203</td>\n",
       "      <td>8.680372</td>\n",
       "      <td>3124</td>\n",
       "    </tr>\n",
       "    <tr>\n",
       "      <th>15</th>\n",
       "      <td>3205</td>\n",
       "      <td>17.726435</td>\n",
       "      <td>894</td>\n",
       "    </tr>\n",
       "    <tr>\n",
       "      <th>16</th>\n",
       "      <td>3206</td>\n",
       "      <td>14.018459</td>\n",
       "      <td>279</td>\n",
       "    </tr>\n",
       "    <tr>\n",
       "      <th>17</th>\n",
       "      <td>3207</td>\n",
       "      <td>17.861503</td>\n",
       "      <td>510</td>\n",
       "    </tr>\n",
       "    <tr>\n",
       "      <th>18</th>\n",
       "      <td>3209</td>\n",
       "      <td>8.581771</td>\n",
       "      <td>875</td>\n",
       "    </tr>\n",
       "    <tr>\n",
       "      <th>19</th>\n",
       "      <td>3210</td>\n",
       "      <td>23.319496</td>\n",
       "      <td>536</td>\n",
       "    </tr>\n",
       "    <tr>\n",
       "      <th>20</th>\n",
       "      <td>3211</td>\n",
       "      <td>13.257645</td>\n",
       "      <td>1380</td>\n",
       "    </tr>\n",
       "    <tr>\n",
       "      <th>21</th>\n",
       "      <td>3212</td>\n",
       "      <td>12.808590</td>\n",
       "      <td>260</td>\n",
       "    </tr>\n",
       "    <tr>\n",
       "      <th>22</th>\n",
       "      <td>3213</td>\n",
       "      <td>11.784237</td>\n",
       "      <td>1070</td>\n",
       "    </tr>\n",
       "    <tr>\n",
       "      <th>23</th>\n",
       "      <td>3214</td>\n",
       "      <td>11.188266</td>\n",
       "      <td>794</td>\n",
       "    </tr>\n",
       "    <tr>\n",
       "      <th>24</th>\n",
       "      <td>3220</td>\n",
       "      <td>13.114715</td>\n",
       "      <td>333</td>\n",
       "    </tr>\n",
       "    <tr>\n",
       "      <th>25</th>\n",
       "      <td>3225</td>\n",
       "      <td>13.096252</td>\n",
       "      <td>418</td>\n",
       "    </tr>\n",
       "    <tr>\n",
       "      <th>26</th>\n",
       "      <td>3267</td>\n",
       "      <td>13.196012</td>\n",
       "      <td>1187</td>\n",
       "    </tr>\n",
       "    <tr>\n",
       "      <th>27</th>\n",
       "      <td>3268</td>\n",
       "      <td>12.276775</td>\n",
       "      <td>399</td>\n",
       "    </tr>\n",
       "    <tr>\n",
       "      <th>28</th>\n",
       "      <td>3269</td>\n",
       "      <td>9.193119</td>\n",
       "      <td>1056</td>\n",
       "    </tr>\n",
       "    <tr>\n",
       "      <th>29</th>\n",
       "      <td>3270</td>\n",
       "      <td>6.323259</td>\n",
       "      <td>1034</td>\n",
       "    </tr>\n",
       "    <tr>\n",
       "      <th>30</th>\n",
       "      <td>3272</td>\n",
       "      <td>7.036271</td>\n",
       "      <td>1112</td>\n",
       "    </tr>\n",
       "    <tr>\n",
       "      <th>31</th>\n",
       "      <td>3273</td>\n",
       "      <td>13.523003</td>\n",
       "      <td>889</td>\n",
       "    </tr>\n",
       "    <tr>\n",
       "      <th>32</th>\n",
       "      <td>3275</td>\n",
       "      <td>10.243367</td>\n",
       "      <td>1098</td>\n",
       "    </tr>\n",
       "    <tr>\n",
       "      <th>33</th>\n",
       "      <td>3276</td>\n",
       "      <td>16.440637</td>\n",
       "      <td>1757</td>\n",
       "    </tr>\n",
       "    <tr>\n",
       "      <th>34</th>\n",
       "      <td>3277</td>\n",
       "      <td>19.723063</td>\n",
       "      <td>284</td>\n",
       "    </tr>\n",
       "    <tr>\n",
       "      <th>35</th>\n",
       "      <td>3278</td>\n",
       "      <td>7.550106</td>\n",
       "      <td>945</td>\n",
       "    </tr>\n",
       "    <tr>\n",
       "      <th>36</th>\n",
       "      <td>3279</td>\n",
       "      <td>6.762439</td>\n",
       "      <td>686</td>\n",
       "    </tr>\n",
       "    <tr>\n",
       "      <th>37</th>\n",
       "      <td>3280</td>\n",
       "      <td>30.482650</td>\n",
       "      <td>366</td>\n",
       "    </tr>\n",
       "    <tr>\n",
       "      <th>38</th>\n",
       "      <td>3281</td>\n",
       "      <td>17.904751</td>\n",
       "      <td>228</td>\n",
       "    </tr>\n",
       "    <tr>\n",
       "      <th>39</th>\n",
       "      <td>3481</td>\n",
       "      <td>11.157002</td>\n",
       "      <td>457</td>\n",
       "    </tr>\n",
       "    <tr>\n",
       "      <th>40</th>\n",
       "      <td>3483</td>\n",
       "      <td>9.355903</td>\n",
       "      <td>511</td>\n",
       "    </tr>\n",
       "    <tr>\n",
       "      <th>41</th>\n",
       "      <td>3638</td>\n",
       "      <td>11.688987</td>\n",
       "      <td>1421</td>\n",
       "    </tr>\n",
       "    <tr>\n",
       "      <th>42</th>\n",
       "      <td>3639</td>\n",
       "      <td>9.759380</td>\n",
       "      <td>2292</td>\n",
       "    </tr>\n",
       "    <tr>\n",
       "      <th>43</th>\n",
       "      <td>3640</td>\n",
       "      <td>13.111331</td>\n",
       "      <td>681</td>\n",
       "    </tr>\n",
       "    <tr>\n",
       "      <th>44</th>\n",
       "      <td>3677</td>\n",
       "      <td>14.946029</td>\n",
       "      <td>277</td>\n",
       "    </tr>\n",
       "    <tr>\n",
       "      <th>45</th>\n",
       "      <td>3678</td>\n",
       "      <td>12.769569</td>\n",
       "      <td>379</td>\n",
       "    </tr>\n",
       "    <tr>\n",
       "      <th>46</th>\n",
       "      <td>3679</td>\n",
       "      <td>10.519345</td>\n",
       "      <td>336</td>\n",
       "    </tr>\n",
       "    <tr>\n",
       "      <th>47</th>\n",
       "      <td>3681</td>\n",
       "      <td>16.220060</td>\n",
       "      <td>781</td>\n",
       "    </tr>\n",
       "    <tr>\n",
       "      <th>48</th>\n",
       "      <td>3694</td>\n",
       "      <td>20.516530</td>\n",
       "      <td>122</td>\n",
       "    </tr>\n",
       "    <tr>\n",
       "      <th>49</th>\n",
       "      <td>3791</td>\n",
       "      <td>21.644636</td>\n",
       "      <td>407</td>\n",
       "    </tr>\n",
       "    <tr>\n",
       "      <th>50</th>\n",
       "      <td>3792</td>\n",
       "      <td>21.401526</td>\n",
       "      <td>2196</td>\n",
       "    </tr>\n",
       "  </tbody>\n",
       "</table>\n",
       "</div>"
      ],
      "text/plain": [
       "    start station id  tripduration_minutes  bikeid\n",
       "0               3184             11.738268    1020\n",
       "1               3185             12.508931    1226\n",
       "2               3186              8.673224    5282\n",
       "3               3187             23.630314    1297\n",
       "4               3191             21.946601     152\n",
       "5               3192             27.737112    1116\n",
       "6               3193             15.897818     382\n",
       "7               3194              7.103642     929\n",
       "8               3195             10.081857    2009\n",
       "9               3196             16.376236     263\n",
       "10              3198             33.576786     364\n",
       "11              3199             16.978191    1504\n",
       "12              3201             10.915098      85\n",
       "13              3202             23.186844    2241\n",
       "14              3203              8.680372    3124\n",
       "15              3205             17.726435     894\n",
       "16              3206             14.018459     279\n",
       "17              3207             17.861503     510\n",
       "18              3209              8.581771     875\n",
       "19              3210             23.319496     536\n",
       "20              3211             13.257645    1380\n",
       "21              3212             12.808590     260\n",
       "22              3213             11.784237    1070\n",
       "23              3214             11.188266     794\n",
       "24              3220             13.114715     333\n",
       "25              3225             13.096252     418\n",
       "26              3267             13.196012    1187\n",
       "27              3268             12.276775     399\n",
       "28              3269              9.193119    1056\n",
       "29              3270              6.323259    1034\n",
       "30              3272              7.036271    1112\n",
       "31              3273             13.523003     889\n",
       "32              3275             10.243367    1098\n",
       "33              3276             16.440637    1757\n",
       "34              3277             19.723063     284\n",
       "35              3278              7.550106     945\n",
       "36              3279              6.762439     686\n",
       "37              3280             30.482650     366\n",
       "38              3281             17.904751     228\n",
       "39              3481             11.157002     457\n",
       "40              3483              9.355903     511\n",
       "41              3638             11.688987    1421\n",
       "42              3639              9.759380    2292\n",
       "43              3640             13.111331     681\n",
       "44              3677             14.946029     277\n",
       "45              3678             12.769569     379\n",
       "46              3679             10.519345     336\n",
       "47              3681             16.220060     781\n",
       "48              3694             20.516530     122\n",
       "49              3791             21.644636     407\n",
       "50              3792             21.401526    2196"
      ]
     },
     "execution_count": 151,
     "metadata": {},
     "output_type": "execute_result"
    }
   ],
   "source": [
    "# Load the JSON data\n",
    "citi_bike_json_data = pd.read_json(\"citibike-tripdata.json\", lines=True)\n",
    "# Handle missing values\n",
    "citi_bike_json_data.fillna(method='ffill', inplace=True)\n",
    "# Convert data types\n",
    "citi_bike_json_data['starttime'] = pd.to_datetime(citi_bike_json_data['starttime'])\n",
    "citi_bike_json_data['stoptime'] = pd.to_datetime(citi_bike_json_data['stoptime'])\n",
    "# Feature engineering\n",
    "citi_bike_json_data['tripduration_minutes'] = citi_bike_json_data['tripduration'] / 60\n",
    "# Aggregation\n",
    "grouped_json_data = citi_bike_json_data.groupby('start station id').agg({\n",
    "    'tripduration_minutes': 'mean',\n",
    "    'bikeid': 'count'\n",
    "}).reset_index()\n",
    "grouped_json_data"
   ]
  },
  {
   "cell_type": "markdown",
   "id": "5035d0ab",
   "metadata": {},
   "source": [
    "# Part 5 Testing Strategy"
   ]
  },
  {
   "cell_type": "code",
   "execution_count": 152,
   "id": "b54ccce6",
   "metadata": {},
   "outputs": [],
   "source": [
    "# load data\n",
    "def load_data(file_path):\n",
    "    return pd.read_csv(file_path)"
   ]
  },
  {
   "cell_type": "code",
   "execution_count": 153,
   "id": "63b313be",
   "metadata": {},
   "outputs": [],
   "source": [
    "#preprocess data\n",
    "def preprocess_data(data):\n",
    "    data.fillna(method='ffill', inplace=True)\n",
    "    data.drop_duplicates(inplace=True)\n",
    "    data['TIME'] = pd.to_datetime(data['TIME'])\n",
    "    data['LAST UPDATED'] = pd.to_datetime(data['LAST UPDATED'])\n",
    "    data['UTILIZATION_RATE'] = data['AVAILABLE_BIKES'] / data['BIKE_STANDS']\n",
    "    return data"
   ]
  },
  {
   "cell_type": "code",
   "execution_count": 154,
   "id": "83d09dee",
   "metadata": {},
   "outputs": [],
   "source": [
    "# perform clustering\n",
    "def perform_clustering(data):\n",
    "    X = data[['AVAILABLE_BIKES', 'AVAILABLE_BIKE_STANDS']]\n",
    "    scaler = StandardScaler()\n",
    "    X_scaled = scaler.fit_transform(X)\n",
    "    kmeans = KMeans(n_clusters=3, random_state=42)\n",
    "    kmeans.fit(X_scaled)\n",
    "    data['Cluster'] = kmeans.labels_\n",
    "    return data"
   ]
  },
  {
   "cell_type": "code",
   "execution_count": 155,
   "id": "65fc1188",
   "metadata": {},
   "outputs": [],
   "source": [
    "# Unit test\n",
    "class TestDataProcessing(unittest.TestCase):\n",
    "    def test_utilization_rate(self):\n",
    "        self.assertEqual(calculate_utilization_rate(10, 20), 0.5)\n",
    "        self.assertEqual(calculate_utilization_rate(0, 20), 0)\n",
    "        self.assertEqual(calculate_utilization_rate(10, 0), 0)\n",
    "        self.assertEqual(calculate_utilization_rate(0, 0), 0)"
   ]
  },
  {
   "cell_type": "code",
   "execution_count": 156,
   "id": "f327cc72",
   "metadata": {},
   "outputs": [],
   "source": [
    "# integration test\n",
    "class TestIntegration(unittest.TestCase):\n",
    "    def test_data_pipeline(self):\n",
    "        data = load_data(\"dublinbike-historical-data-2024-01.csv\")\n",
    "        cleaned_data = preprocess_data(data)\n",
    "        clusters = perform_clustering(cleaned_data)\n",
    "        self.assertEqual(len(clusters), len(cleaned_data))\n"
   ]
  },
  {
   "cell_type": "code",
   "execution_count": 157,
   "id": "28487c30",
   "metadata": {},
   "outputs": [
    {
     "name": "stderr",
     "output_type": "stream",
     "text": [
      ".\n",
      "----------------------------------------------------------------------\n",
      "Ran 1 test in 0.001s\n",
      "\n",
      "OK\n",
      ".\n",
      "----------------------------------------------------------------------\n",
      "Ran 1 test in 1.723s\n",
      "\n",
      "OK\n"
     ]
    }
   ],
   "source": [
    "def run_tests():\n",
    "    suite = unittest.TestLoader().loadTestsFromTestCase(TestDataProcessing)\n",
    "    unittest.TextTestRunner().run(suite)\n",
    "def run_integration_tests():\n",
    "    suite = unittest.TestLoader().loadTestsFromTestCase(TestIntegration)\n",
    "    unittest.TextTestRunner().run(suite)\n",
    "run_tests()\n",
    "run_integration_tests()"
   ]
  },
  {
   "cell_type": "markdown",
   "id": "7d563b07",
   "metadata": {},
   "source": [
    "# Part 6 Optimization Strategy"
   ]
  },
  {
   "cell_type": "code",
   "execution_count": 158,
   "id": "c24fde70",
   "metadata": {},
   "outputs": [],
   "source": [
    "# Load Data\n",
    "def load_data_in_chunks(file_path, chunk_size=100000):\n",
    "    chunks = []\n",
    "    for chunk in pd.read_csv(file_path, chunksize=chunk_size):\n",
    "        chunks.append(chunk)\n",
    "    return pd.concat(chunks, ignore_index=True)\n",
    "\n",
    "dublinbikes_data = load_data_in_chunks(\"dublinbike-historical-data-2024-01.csv\")"
   ]
  },
  {
   "cell_type": "code",
   "execution_count": 159,
   "id": "07696716",
   "metadata": {},
   "outputs": [],
   "source": [
    "# feature engineering\n",
    "dublinbikes_data['UTILIZATION_RATE'] = dublinbikes_data['AVAILABLE_BIKES'] / dublinbikes_data['BIKE_STANDS']\n"
   ]
  },
  {
   "cell_type": "code",
   "execution_count": 160,
   "id": "45aa9759",
   "metadata": {},
   "outputs": [],
   "source": [
    "# Convert datatypers\n",
    "dublinbikes_data['STATION ID'] = dublinbikes_data['STATION ID'].astype('int32')\n",
    "dublinbikes_data['BIKE_STANDS'] = dublinbikes_data['BIKE_STANDS'].astype('int16')"
   ]
  },
  {
   "cell_type": "code",
   "execution_count": 161,
   "id": "0d0f5db6",
   "metadata": {},
   "outputs": [],
   "source": [
    "# remove duplicate and fill missing values\n",
    "dublinbikes_data.drop_duplicates(inplace=True)\n",
    "dublinbikes_data.fillna(method='ffill', inplace=True)"
   ]
  },
  {
   "cell_type": "code",
   "execution_count": 162,
   "id": "817ee6dd",
   "metadata": {},
   "outputs": [],
   "source": [
    "def train_kmeans(data, n_clusters):\n",
    "    kmeans = KMeans(n_clusters=n_clusters, random_state=42, algorithm='elkan')\n",
    "    kmeans.fit(data)\n",
    "    return kmeans.labels_\n",
    "\n",
    "data_chunks = np.array_split(dublinbikes_data[['AVAILABLE_BIKES', 'AVAILABLE_BIKE_STANDS']], 4)\n",
    "results = Parallel(n_jobs=-1)(delayed(train_kmeans)(chunk, 3) for chunk in data_chunks)"
   ]
  },
  {
   "cell_type": "code",
   "execution_count": 163,
   "id": "80d256b2",
   "metadata": {},
   "outputs": [],
   "source": [
    "dublinbikes_data.to_hdf('dublinbikes_data.h5', key='df', mode='w')"
   ]
  },
  {
   "cell_type": "code",
   "execution_count": null,
   "id": "f89e3d1a",
   "metadata": {},
   "outputs": [],
   "source": []
  }
 ],
 "metadata": {
  "kernelspec": {
   "display_name": "Python 3 (ipykernel)",
   "language": "python",
   "name": "python3"
  },
  "language_info": {
   "codemirror_mode": {
    "name": "ipython",
    "version": 3
   },
   "file_extension": ".py",
   "mimetype": "text/x-python",
   "name": "python",
   "nbconvert_exporter": "python",
   "pygments_lexer": "ipython3",
   "version": "3.9.12"
  }
 },
 "nbformat": 4,
 "nbformat_minor": 5
}
